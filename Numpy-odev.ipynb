{
 "cells": [
  {
   "cell_type": "markdown",
   "id": "156d11c9-058d-4fa5-bf10-6a3cc169e542",
   "metadata": {},
   "source": [
    "## Numpy Odev"
   ]
  },
  {
   "cell_type": "markdown",
   "id": "e8053c66-d00d-4529-80f4-08958293d9dc",
   "metadata": {},
   "source": [
    "1-Numpy kütüphanesini import edin."
   ]
  },
  {
   "cell_type": "code",
   "execution_count": 1,
   "id": "34e1766f-f06d-482f-af37-def98e441965",
   "metadata": {},
   "outputs": [],
   "source": [
    "# 1\n",
    "import numpy as np"
   ]
  },
  {
   "cell_type": "markdown",
   "id": "45d6e4ba-e371-485d-b12c-5bc8d523e137",
   "metadata": {},
   "source": [
    " "
   ]
  },
  {
   "cell_type": "markdown",
   "id": "1ae67c87-47a3-4cec-8a9e-acf65b83a763",
   "metadata": {},
   "source": [
    "2-1'den 5 e kadar (5 dahil) b isimli bir dizi oluşturun."
   ]
  },
  {
   "cell_type": "code",
   "execution_count": 2,
   "id": "ae19b75b-9721-484c-b157-3b71fb59c0ae",
   "metadata": {},
   "outputs": [
    {
     "data": {
      "text/plain": [
       "array([1, 2, 3, 4, 5])"
      ]
     },
     "execution_count": 2,
     "metadata": {},
     "output_type": "execute_result"
    }
   ],
   "source": [
    "# 2\n",
    "b = np.array(range(1,6))\n",
    "b"
   ]
  },
  {
   "cell_type": "markdown",
   "id": "5412cf38-c847-4d96-b218-b6bbb4dfcce0",
   "metadata": {},
   "source": [
    " "
   ]
  },
  {
   "cell_type": "markdown",
   "id": "089d927a-302b-47a6-88ae-030b854438e5",
   "metadata": {},
   "source": [
    "3- 20 adet 0'dan oluşan 4 x 5' lik dizi oluşturun."
   ]
  },
  {
   "cell_type": "code",
   "execution_count": 3,
   "id": "cf63e57a-b1f4-4d49-b3c1-9b9f18e5db23",
   "metadata": {},
   "outputs": [
    {
     "data": {
      "text/plain": [
       "array([[0., 0., 0., 0., 0.],\n",
       "       [0., 0., 0., 0., 0.],\n",
       "       [0., 0., 0., 0., 0.],\n",
       "       [0., 0., 0., 0., 0.]])"
      ]
     },
     "execution_count": 3,
     "metadata": {},
     "output_type": "execute_result"
    }
   ],
   "source": [
    "# 3\n",
    "np.zeros((4,5))"
   ]
  },
  {
   "cell_type": "markdown",
   "id": "34219503-1410-4dd5-a456-b4fe32c41a34",
   "metadata": {},
   "source": [
    " "
   ]
  },
  {
   "cell_type": "markdown",
   "id": "ed30faff-824d-49b9-b6c4-8f1d59784d3e",
   "metadata": {},
   "source": [
    "4- 15 adet 7 sayısından oluşan diziyi 3x5 olarak yazın."
   ]
  },
  {
   "cell_type": "code",
   "execution_count": 4,
   "id": "b444e139-4cbc-491f-a9c3-08c1d0f7e52d",
   "metadata": {},
   "outputs": [
    {
     "data": {
      "text/plain": [
       "array([[7, 7, 7, 7, 7],\n",
       "       [7, 7, 7, 7, 7],\n",
       "       [7, 7, 7, 7, 7]])"
      ]
     },
     "execution_count": 4,
     "metadata": {},
     "output_type": "execute_result"
    }
   ],
   "source": [
    "# 4\n",
    "np.full((3,5), 7)"
   ]
  },
  {
   "cell_type": "markdown",
   "id": "d3af670d-3db8-4c27-bccb-90e2674db782",
   "metadata": {},
   "source": [
    " "
   ]
  },
  {
   "cell_type": "markdown",
   "id": "f74a13e9-7d6f-418e-a5a8-01cac8478869",
   "metadata": {},
   "source": [
    "5- 10–70 e kadar 5 er artan sayıları yaz."
   ]
  },
  {
   "cell_type": "code",
   "execution_count": 5,
   "id": "02c41824-732e-4c51-b5ec-0751e4e2ebb6",
   "metadata": {},
   "outputs": [
    {
     "data": {
      "text/plain": [
       "array([10, 15, 20, 25, 30, 35, 40, 45, 50, 55, 60, 65])"
      ]
     },
     "execution_count": 5,
     "metadata": {},
     "output_type": "execute_result"
    }
   ],
   "source": [
    "# 5\n",
    "np.arange(10,70,5)"
   ]
  },
  {
   "cell_type": "markdown",
   "id": "db793bf2-9646-4714-aea5-fb2af98b04e0",
   "metadata": {},
   "source": [
    " "
   ]
  },
  {
   "cell_type": "markdown",
   "id": "bed70670-ee57-4073-9b94-8829b2729065",
   "metadata": {},
   "source": [
    "6- 10–20 arasında 15 aynı uzaklıkta elemanı olan array oluşturun. (linspace metodunu kullanın.)"
   ]
  },
  {
   "cell_type": "code",
   "execution_count": 6,
   "id": "b5b81036-8fca-4ce7-afe3-7effbb1f2f62",
   "metadata": {},
   "outputs": [
    {
     "data": {
      "text/plain": [
       "array([10.        , 10.71428571, 11.42857143, 12.14285714, 12.85714286,\n",
       "       13.57142857, 14.28571429, 15.        , 15.71428571, 16.42857143,\n",
       "       17.14285714, 17.85714286, 18.57142857, 19.28571429, 20.        ])"
      ]
     },
     "execution_count": 6,
     "metadata": {},
     "output_type": "execute_result"
    }
   ],
   "source": [
    "# 6\n",
    "np.linspace(10,20,15)"
   ]
  },
  {
   "cell_type": "markdown",
   "id": "bcb30c1e-f11d-4e1d-857c-0de95d4c0487",
   "metadata": {},
   "source": [
    " "
   ]
  },
  {
   "cell_type": "markdown",
   "id": "3314f19a-8ca0-4012-9b59-eef53bf3bb4a",
   "metadata": {},
   "source": [
    "7- Rastgele sayılardan oluşan diziyi 3x5 boyutunda yazdır."
   ]
  },
  {
   "cell_type": "code",
   "execution_count": 7,
   "id": "1898133c-f15b-417c-84bd-dfced9325534",
   "metadata": {},
   "outputs": [
    {
     "data": {
      "text/plain": [
       "array([[43,  2, 33,  1, 21],\n",
       "       [18, 32, 33, 17, 30],\n",
       "       [32, 34,  7, 30,  7]])"
      ]
     },
     "execution_count": 7,
     "metadata": {},
     "output_type": "execute_result"
    }
   ],
   "source": [
    "# 7\n",
    "np.random.randint(1, 50, (3,5))"
   ]
  },
  {
   "cell_type": "markdown",
   "id": "37bfb4ea-3083-4954-9b99-0125f2acad3e",
   "metadata": {},
   "source": [
    " "
   ]
  },
  {
   "cell_type": "markdown",
   "id": "4e6b51fb-e059-4d75-8365-c68a9f26da10",
   "metadata": {},
   "source": [
    "8- 5 elemanlı birim matris oluşturun. eye() metodu kullanın."
   ]
  },
  {
   "cell_type": "code",
   "execution_count": 8,
   "id": "b066606e-0a21-463f-a4a8-e89bafbebe91",
   "metadata": {},
   "outputs": [
    {
     "data": {
      "text/plain": [
       "array([[1., 0., 0., 0., 0.],\n",
       "       [0., 1., 0., 0., 0.],\n",
       "       [0., 0., 1., 0., 0.],\n",
       "       [0., 0., 0., 1., 0.],\n",
       "       [0., 0., 0., 0., 1.]])"
      ]
     },
     "execution_count": 8,
     "metadata": {},
     "output_type": "execute_result"
    }
   ],
   "source": [
    "# 8\n",
    "np.eye(5)"
   ]
  },
  {
   "cell_type": "markdown",
   "id": "8f62b5bd-1cff-45fb-9ff0-042f6ec7b548",
   "metadata": {},
   "source": [
    " "
   ]
  },
  {
   "cell_type": "markdown",
   "id": "09d35a3c-36c4-4d58-8c7d-d46ee38d8d45",
   "metadata": {},
   "source": [
    "9- 0'dan 24 e kadar array oluştur. Sonra reshape metodu ile 4x6 boyutu olarak yazın."
   ]
  },
  {
   "cell_type": "code",
   "execution_count": 9,
   "id": "5614b8cb-093a-4c63-b0b2-90e4e27bb593",
   "metadata": {},
   "outputs": [
    {
     "data": {
      "text/plain": [
       "array([[ 0,  1,  2,  3,  4,  5],\n",
       "       [ 6,  7,  8,  9, 10, 11],\n",
       "       [12, 13, 14, 15, 16, 17],\n",
       "       [18, 19, 20, 21, 22, 23]])"
      ]
     },
     "execution_count": 9,
     "metadata": {},
     "output_type": "execute_result"
    }
   ],
   "source": [
    "# 9\n",
    "a = np.arange(0,24)\n",
    "a.reshape((4,6))"
   ]
  },
  {
   "cell_type": "markdown",
   "id": "6389db79-7633-414e-ae3a-a61db3813c8e",
   "metadata": {},
   "source": [
    " "
   ]
  },
  {
   "cell_type": "markdown",
   "id": "6e73b81a-70f5-4c24-9b9c-4d9248d25035",
   "metadata": {},
   "source": [
    "10- 0 ile 1 arasında rastgele 10 sayıdan oluşan bir array tanımlayın. Minimum ve maksimum değerleri bulun."
   ]
  },
  {
   "cell_type": "code",
   "execution_count": 10,
   "id": "c870e991-3bde-48fb-abd0-2b40102d25f0",
   "metadata": {},
   "outputs": [
    {
     "name": "stdout",
     "output_type": "stream",
     "text": [
      "Arrayin max değeri : 0.849181272556896\n",
      "Arrayin min değeri : 0.04158175995702251\n"
     ]
    }
   ],
   "source": [
    "# 10\n",
    "a = np.random.uniform(0,1,10)\n",
    "print(\"Arrayin max değeri : {}\".format(a.max()))\n",
    "print(\"Arrayin min değeri : {}\".format(a.min()))"
   ]
  },
  {
   "cell_type": "markdown",
   "id": "e9ec1ba2-419d-4ff6-ba92-4b132bcb7c70",
   "metadata": {},
   "source": [
    " "
   ]
  },
  {
   "cell_type": "markdown",
   "id": "0a71d01a-6aef-492e-82b4-d5702c792c6f",
   "metadata": {},
   "source": [
    "11- 36 sayıdan oluşan rastgele sayılar 6x6' lık array olarak yazdırın."
   ]
  },
  {
   "cell_type": "code",
   "execution_count": 11,
   "id": "c06a5f4e-a270-4325-913a-c2e225d0f7a3",
   "metadata": {},
   "outputs": [
    {
     "data": {
      "text/plain": [
       "array([[13, 45, 60, 29, 49, 43],\n",
       "       [35, 15, 24, 75,  2, 45],\n",
       "       [98, 34, 12, 60, 78, 10],\n",
       "       [49, 96, 92, 54, 62, 76],\n",
       "       [31, 52,  3, 98, 96,  5],\n",
       "       [49, 58, 84, 55, 62, 40]])"
      ]
     },
     "execution_count": 11,
     "metadata": {},
     "output_type": "execute_result"
    }
   ],
   "source": [
    "# 11\n",
    "a = np.random.randint(0,100,(6,6))\n",
    "a"
   ]
  },
  {
   "cell_type": "markdown",
   "id": "941e9aa7-20be-490b-9901-2f46941eefe3",
   "metadata": {},
   "source": [
    " "
   ]
  },
  {
   "cell_type": "markdown",
   "id": "e355a677-d411-4404-b76e-370ef6ea9a51",
   "metadata": {},
   "source": [
    "12- 5.satırdaki elemanları gösteriniz."
   ]
  },
  {
   "cell_type": "code",
   "execution_count": 12,
   "id": "e5f546fd-b6cd-410c-9653-66d6d6563ea1",
   "metadata": {},
   "outputs": [
    {
     "data": {
      "text/plain": [
       "array([31, 52,  3, 98, 96,  5])"
      ]
     },
     "execution_count": 12,
     "metadata": {},
     "output_type": "execute_result"
    }
   ],
   "source": [
    "# 12 \n",
    "a[4,:]"
   ]
  },
  {
   "cell_type": "markdown",
   "id": "c7860cd8-135b-4db4-b843-cec6dcb8f44d",
   "metadata": {},
   "source": [
    " "
   ]
  },
  {
   "cell_type": "markdown",
   "id": "7a6bf8d6-ca8c-4365-96f9-2c3e04f57d9f",
   "metadata": {},
   "source": [
    "13- 6.satır ve 6.sutundaki elemanları gösteriniz."
   ]
  },
  {
   "cell_type": "code",
   "execution_count": 13,
   "id": "7d07c2f5-53ae-4a4c-96b5-250a987245c1",
   "metadata": {},
   "outputs": [
    {
     "name": "stdout",
     "output_type": "stream",
     "text": [
      "[49 58 84 55 62 40]\n",
      "[[43]\n",
      " [45]\n",
      " [10]\n",
      " [76]\n",
      " [ 5]\n",
      " [40]]\n"
     ]
    }
   ],
   "source": [
    "# 13\n",
    "print(a[5])\n",
    "print(a[:,[5]])"
   ]
  },
  {
   "cell_type": "markdown",
   "id": "5ccb38cb-0db0-4a6a-bd41-c80c34957e2d",
   "metadata": {},
   "source": [
    " "
   ]
  },
  {
   "cell_type": "markdown",
   "id": "8780ecf6-b4fb-4c79-b7d1-0f8e75214c51",
   "metadata": {},
   "source": [
    "14-4.sutundaki tüm elemanları çekin."
   ]
  },
  {
   "cell_type": "code",
   "execution_count": 14,
   "id": "bc7ec02f-2461-427f-bb0e-7f89dce2e727",
   "metadata": {},
   "outputs": [
    {
     "data": {
      "text/plain": [
       "array([[29],\n",
       "       [75],\n",
       "       [60],\n",
       "       [54],\n",
       "       [98],\n",
       "       [55]])"
      ]
     },
     "execution_count": 14,
     "metadata": {},
     "output_type": "execute_result"
    }
   ],
   "source": [
    "# 14\n",
    "a[:,[3]]"
   ]
  },
  {
   "cell_type": "markdown",
   "id": "6bd4c4f1-1139-4572-9f4d-40faf43b75a0",
   "metadata": {},
   "source": [
    " "
   ]
  },
  {
   "cell_type": "markdown",
   "id": "2f40b6f8-4513-4273-a1da-3ebf26a1bd36",
   "metadata": {},
   "source": [
    "15- For döngüsünü ve flat metodunu kullanarak satır satır elemanları yazdırınız."
   ]
  },
  {
   "cell_type": "code",
   "execution_count": 15,
   "id": "4ee933e8-9cf5-4fa6-9e2a-4758df075618",
   "metadata": {},
   "outputs": [
    {
     "name": "stdout",
     "output_type": "stream",
     "text": [
      "1. satır: [13 45 60 29 49 43]\n",
      "2. satır: [35 15 24 75  2 45]\n",
      "3. satır: [98 34 12 60 78 10]\n",
      "4. satır: [49 96 92 54 62 76]\n",
      "5. satır: [31 52  3 98 96  5]\n",
      "6. satır: [49 58 84 55 62 40]\n"
     ]
    }
   ],
   "source": [
    "# 15\n",
    "for j, i in enumerate(range(0,36,6)):\n",
    "    print(\"{}. satır: {}\".format(j+1 ,a.flat[i:i+6]))\n",
    "    "
   ]
  },
  {
   "cell_type": "markdown",
   "id": "cfae0e32-d054-45ff-9cc9-71924f2039ba",
   "metadata": {},
   "source": [
    " "
   ]
  },
  {
   "cell_type": "markdown",
   "id": "72d90e8c-c5c6-4f0d-9997-fba8a2e58b22",
   "metadata": {},
   "source": [
    "16- 0 ile 1 aralığında bir array oluştur. Bu array değerini 5 ile çarpın."
   ]
  },
  {
   "cell_type": "code",
   "execution_count": 16,
   "id": "079fdf1f-d1de-4e66-a2cf-1c154905d376",
   "metadata": {},
   "outputs": [
    {
     "data": {
      "text/plain": [
       "array([0.41442046, 0.00972325, 1.97920681, 0.14537176, 0.16744099,\n",
       "       1.91349548])"
      ]
     },
     "execution_count": 16,
     "metadata": {},
     "output_type": "execute_result"
    }
   ],
   "source": [
    "# 16\n",
    "arr = np.random.uniform(0,1,6)\n",
    "arr = np.multiply(arr, 2)\n",
    "arr"
   ]
  },
  {
   "cell_type": "markdown",
   "id": "b6f684fc-28c7-4051-872e-382355a6e004",
   "metadata": {},
   "source": [
    "  "
   ]
  },
  {
   "cell_type": "markdown",
   "id": "1ae46e38-df85-4457-b937-8c27986c4048",
   "metadata": {},
   "source": [
    "17- Satırların toplam değeri nedir?"
   ]
  },
  {
   "cell_type": "code",
   "execution_count": 17,
   "id": "dcf3c618-5304-46b5-ac74-62530c66e9ff",
   "metadata": {},
   "outputs": [
    {
     "data": {
      "text/plain": [
       "4.629658750142294"
      ]
     },
     "execution_count": 17,
     "metadata": {},
     "output_type": "execute_result"
    }
   ],
   "source": [
    "# 17\n",
    "np.sum(arr)"
   ]
  },
  {
   "cell_type": "markdown",
   "id": "de1bb48a-e8bb-4dcf-8890-501531bf5684",
   "metadata": {},
   "source": [
    " "
   ]
  },
  {
   "cell_type": "markdown",
   "id": "0e6c4137-7c17-48fe-8870-c86d717360de",
   "metadata": {},
   "source": [
    "18-Satırların standart sapma değeri nedir?"
   ]
  },
  {
   "cell_type": "code",
   "execution_count": 18,
   "id": "41a0a98e-3a25-4d82-83e0-db4803cb0e32",
   "metadata": {},
   "outputs": [
    {
     "data": {
      "text/plain": [
       "0.8393889446357483"
      ]
     },
     "execution_count": 18,
     "metadata": {},
     "output_type": "execute_result"
    }
   ],
   "source": [
    "# 18\n",
    "np.std(arr)"
   ]
  },
  {
   "cell_type": "markdown",
   "id": "1e6cb169-0493-4c2d-b83d-b7e7215c56d3",
   "metadata": {},
   "source": [
    "  "
   ]
  },
  {
   "cell_type": "markdown",
   "id": "5231c7ed-58f0-486a-a2d8-ca576fae4afb",
   "metadata": {},
   "source": [
    "19-Satırların varyans değeri nedir?"
   ]
  },
  {
   "cell_type": "code",
   "execution_count": 19,
   "id": "63223b5f-954b-4afb-ad73-83c920d93b29",
   "metadata": {},
   "outputs": [
    {
     "data": {
      "text/plain": [
       "0.7045738003767154"
      ]
     },
     "execution_count": 19,
     "metadata": {},
     "output_type": "execute_result"
    }
   ],
   "source": [
    "# 19\n",
    "np.var(arr)"
   ]
  },
  {
   "cell_type": "markdown",
   "id": "16240fab-4aaf-4184-9c8a-9c66fd01fee5",
   "metadata": {},
   "source": [
    " "
   ]
  },
  {
   "cell_type": "markdown",
   "id": "f77dccb8-423a-429a-b65d-03d3ead1ea90",
   "metadata": {},
   "source": [
    "20- Satırların transpoz değeri nedir?"
   ]
  },
  {
   "cell_type": "code",
   "execution_count": 20,
   "id": "e5c2aa94-1c2e-43f6-95c7-792818a4b787",
   "metadata": {},
   "outputs": [
    {
     "data": {
      "text/plain": [
       "array([0.41442046, 0.00972325, 1.97920681, 0.14537176, 0.16744099,\n",
       "       1.91349548])"
      ]
     },
     "execution_count": 20,
     "metadata": {},
     "output_type": "execute_result"
    }
   ],
   "source": [
    "# 20\n",
    "arr.T"
   ]
  },
  {
   "cell_type": "code",
   "execution_count": null,
   "id": "1ab4daa6-af7e-494c-b5e6-af6a775b14bf",
   "metadata": {},
   "outputs": [],
   "source": []
  }
 ],
 "metadata": {
  "kernelspec": {
   "display_name": "Python 3 (ipykernel)",
   "language": "python",
   "name": "python3"
  },
  "language_info": {
   "codemirror_mode": {
    "name": "ipython",
    "version": 3
   },
   "file_extension": ".py",
   "mimetype": "text/x-python",
   "name": "python",
   "nbconvert_exporter": "python",
   "pygments_lexer": "ipython3",
   "version": "3.9.12"
  }
 },
 "nbformat": 4,
 "nbformat_minor": 5
}
